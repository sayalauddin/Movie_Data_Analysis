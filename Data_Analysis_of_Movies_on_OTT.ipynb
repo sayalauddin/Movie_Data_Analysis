{
  "nbformat": 4,
  "nbformat_minor": 0,
  "metadata": {
    "colab": {
      "name": "Data Analysis_of Movies_on_OTT.ipynb",
      "provenance": [],
      "authorship_tag": "ABX9TyO1skRQ4F2ewI/B2+zMThSe",
      "include_colab_link": true
    },
    "kernelspec": {
      "name": "python3",
      "display_name": "Python 3"
    }
  },
  "cells": [
    {
      "cell_type": "markdown",
      "metadata": {
        "id": "view-in-github",
        "colab_type": "text"
      },
      "source": [
        "<a href=\"https://colab.research.google.com/github/sayalauddin/Movie_Data_Analysis/blob/main/Data_Analysis_of_Movies_on_OTT.ipynb\" target=\"_parent\"><img src=\"https://colab.research.google.com/assets/colab-badge.svg\" alt=\"Open In Colab\"/></a>"
      ]
    },
    {
      "cell_type": "markdown",
      "metadata": {
        "id": "MXQUrVtoHRgs"
      },
      "source": [
        "## **Movies On Streaming Platforms**\n",
        "The OTT platform is growing rapidly worldwide, In this datasheet, the behavior of different user are described. The datasheet taken from \"KAGGLE\".\n",
        "\n",
        "The Analysis of data performed using different python libraries such as Pandas and Matplotlib. \n",
        "In this data, we will try to find which genre is most widely watched, which language is most popular, which country tops in the OOT platform use, etc."
      ]
    },
    {
      "cell_type": "code",
      "metadata": {
        "id": "T10mtOcQom4t"
      },
      "source": [
        "project_name = \"Data Analysis_of Movies_on_OTT\""
      ],
      "execution_count": null,
      "outputs": []
    },
    {
      "cell_type": "code",
      "metadata": {
        "id": "eYvaxedsowPK"
      },
      "source": [
        "!pip install jovian --upgrade -q"
      ],
      "execution_count": null,
      "outputs": []
    },
    {
      "cell_type": "code",
      "metadata": {
        "id": "b0riS-jhoz-Q"
      },
      "source": [
        "import jovian"
      ],
      "execution_count": null,
      "outputs": []
    },
    {
      "cell_type": "code",
      "metadata": {
        "id": "PsHWDGivZ0Us"
      },
      "source": [
        "import numpy as np\n",
        "import pandas as pd\n",
        "import matplotlib.pyplot as plt\n",
        "import seaborn"
      ],
      "execution_count": null,
      "outputs": []
    },
    {
      "cell_type": "markdown",
      "metadata": {
        "id": "CGm09MTWH3zt"
      },
      "source": [
        "Let's downlode the file from https://www.kaggle.com/ruchi798/movies-on-netflix-prime-video-hulu-and-disney\n",
        "Now listing the files within the dataset."
      ]
    },
    {
      "cell_type": "code",
      "metadata": {
        "id": "tfBnGHH0ax1_"
      },
      "source": [
        "movies_df = pd.read_csv(\"MoviesOnStreamingPlatforms_updated.csv\")"
      ],
      "execution_count": null,
      "outputs": []
    },
    {
      "cell_type": "markdown",
      "metadata": {
        "id": "Wt0ypDO8hI3p"
      },
      "source": [
        "# Data Preparation and Cleaning\n",
        "Some data cleanig is to be done before visualization.\n",
        "first, we will how our data looks like. And then manipulating it for own use."
      ]
    },
    {
      "cell_type": "code",
      "metadata": {
        "id": "Hs33jqOvb7xQ",
        "outputId": "6833288e-6e1a-4236-9f48-02cb4510c994",
        "colab": {
          "base_uri": "https://localhost:8080/",
          "height": 796
        }
      },
      "source": [
        "movies_df"
      ],
      "execution_count": null,
      "outputs": [
        {
          "output_type": "execute_result",
          "data": {
            "text/html": [
              "<div>\n",
              "<style scoped>\n",
              "    .dataframe tbody tr th:only-of-type {\n",
              "        vertical-align: middle;\n",
              "    }\n",
              "\n",
              "    .dataframe tbody tr th {\n",
              "        vertical-align: top;\n",
              "    }\n",
              "\n",
              "    .dataframe thead th {\n",
              "        text-align: right;\n",
              "    }\n",
              "</style>\n",
              "<table border=\"1\" class=\"dataframe\">\n",
              "  <thead>\n",
              "    <tr style=\"text-align: right;\">\n",
              "      <th></th>\n",
              "      <th>Unnamed: 0</th>\n",
              "      <th>ID</th>\n",
              "      <th>Title</th>\n",
              "      <th>Year</th>\n",
              "      <th>Age</th>\n",
              "      <th>IMDb</th>\n",
              "      <th>Rotten Tomatoes</th>\n",
              "      <th>Netflix</th>\n",
              "      <th>Hulu</th>\n",
              "      <th>Prime Video</th>\n",
              "      <th>Disney+</th>\n",
              "      <th>Type</th>\n",
              "      <th>Directors</th>\n",
              "      <th>Genres</th>\n",
              "      <th>Country</th>\n",
              "      <th>Language</th>\n",
              "      <th>Runtime</th>\n",
              "    </tr>\n",
              "  </thead>\n",
              "  <tbody>\n",
              "    <tr>\n",
              "      <th>0</th>\n",
              "      <td>0</td>\n",
              "      <td>1</td>\n",
              "      <td>Inception</td>\n",
              "      <td>2010</td>\n",
              "      <td>13+</td>\n",
              "      <td>8.8</td>\n",
              "      <td>87%</td>\n",
              "      <td>1</td>\n",
              "      <td>0</td>\n",
              "      <td>0</td>\n",
              "      <td>0</td>\n",
              "      <td>0</td>\n",
              "      <td>Christopher Nolan</td>\n",
              "      <td>Action,Adventure,Sci-Fi,Thriller</td>\n",
              "      <td>United States,United Kingdom</td>\n",
              "      <td>English,Japanese,French</td>\n",
              "      <td>148.0</td>\n",
              "    </tr>\n",
              "    <tr>\n",
              "      <th>1</th>\n",
              "      <td>1</td>\n",
              "      <td>2</td>\n",
              "      <td>The Matrix</td>\n",
              "      <td>1999</td>\n",
              "      <td>18+</td>\n",
              "      <td>8.7</td>\n",
              "      <td>87%</td>\n",
              "      <td>1</td>\n",
              "      <td>0</td>\n",
              "      <td>0</td>\n",
              "      <td>0</td>\n",
              "      <td>0</td>\n",
              "      <td>Lana Wachowski,Lilly Wachowski</td>\n",
              "      <td>Action,Sci-Fi</td>\n",
              "      <td>United States</td>\n",
              "      <td>English</td>\n",
              "      <td>136.0</td>\n",
              "    </tr>\n",
              "    <tr>\n",
              "      <th>2</th>\n",
              "      <td>2</td>\n",
              "      <td>3</td>\n",
              "      <td>Avengers: Infinity War</td>\n",
              "      <td>2018</td>\n",
              "      <td>13+</td>\n",
              "      <td>8.5</td>\n",
              "      <td>84%</td>\n",
              "      <td>1</td>\n",
              "      <td>0</td>\n",
              "      <td>0</td>\n",
              "      <td>0</td>\n",
              "      <td>0</td>\n",
              "      <td>Anthony Russo,Joe Russo</td>\n",
              "      <td>Action,Adventure,Sci-Fi</td>\n",
              "      <td>United States</td>\n",
              "      <td>English</td>\n",
              "      <td>149.0</td>\n",
              "    </tr>\n",
              "    <tr>\n",
              "      <th>3</th>\n",
              "      <td>3</td>\n",
              "      <td>4</td>\n",
              "      <td>Back to the Future</td>\n",
              "      <td>1985</td>\n",
              "      <td>7+</td>\n",
              "      <td>8.5</td>\n",
              "      <td>96%</td>\n",
              "      <td>1</td>\n",
              "      <td>0</td>\n",
              "      <td>0</td>\n",
              "      <td>0</td>\n",
              "      <td>0</td>\n",
              "      <td>Robert Zemeckis</td>\n",
              "      <td>Adventure,Comedy,Sci-Fi</td>\n",
              "      <td>United States</td>\n",
              "      <td>English</td>\n",
              "      <td>116.0</td>\n",
              "    </tr>\n",
              "    <tr>\n",
              "      <th>4</th>\n",
              "      <td>4</td>\n",
              "      <td>5</td>\n",
              "      <td>The Good, the Bad and the Ugly</td>\n",
              "      <td>1966</td>\n",
              "      <td>18+</td>\n",
              "      <td>8.8</td>\n",
              "      <td>97%</td>\n",
              "      <td>1</td>\n",
              "      <td>0</td>\n",
              "      <td>1</td>\n",
              "      <td>0</td>\n",
              "      <td>0</td>\n",
              "      <td>Sergio Leone</td>\n",
              "      <td>Western</td>\n",
              "      <td>Italy,Spain,West Germany</td>\n",
              "      <td>Italian</td>\n",
              "      <td>161.0</td>\n",
              "    </tr>\n",
              "    <tr>\n",
              "      <th>...</th>\n",
              "      <td>...</td>\n",
              "      <td>...</td>\n",
              "      <td>...</td>\n",
              "      <td>...</td>\n",
              "      <td>...</td>\n",
              "      <td>...</td>\n",
              "      <td>...</td>\n",
              "      <td>...</td>\n",
              "      <td>...</td>\n",
              "      <td>...</td>\n",
              "      <td>...</td>\n",
              "      <td>...</td>\n",
              "      <td>...</td>\n",
              "      <td>...</td>\n",
              "      <td>...</td>\n",
              "      <td>...</td>\n",
              "      <td>...</td>\n",
              "    </tr>\n",
              "    <tr>\n",
              "      <th>16739</th>\n",
              "      <td>16739</td>\n",
              "      <td>16740</td>\n",
              "      <td>The Ghosts of Buxley Hall</td>\n",
              "      <td>1980</td>\n",
              "      <td>NaN</td>\n",
              "      <td>6.2</td>\n",
              "      <td>NaN</td>\n",
              "      <td>0</td>\n",
              "      <td>0</td>\n",
              "      <td>0</td>\n",
              "      <td>1</td>\n",
              "      <td>0</td>\n",
              "      <td>Bruce Bilson</td>\n",
              "      <td>Comedy,Family,Fantasy,Horror</td>\n",
              "      <td>United States</td>\n",
              "      <td>English</td>\n",
              "      <td>120.0</td>\n",
              "    </tr>\n",
              "    <tr>\n",
              "      <th>16740</th>\n",
              "      <td>16740</td>\n",
              "      <td>16741</td>\n",
              "      <td>The Poof Point</td>\n",
              "      <td>2001</td>\n",
              "      <td>7+</td>\n",
              "      <td>4.7</td>\n",
              "      <td>NaN</td>\n",
              "      <td>0</td>\n",
              "      <td>0</td>\n",
              "      <td>0</td>\n",
              "      <td>1</td>\n",
              "      <td>0</td>\n",
              "      <td>Neal Israel</td>\n",
              "      <td>Comedy,Family,Sci-Fi</td>\n",
              "      <td>United States</td>\n",
              "      <td>English</td>\n",
              "      <td>90.0</td>\n",
              "    </tr>\n",
              "    <tr>\n",
              "      <th>16741</th>\n",
              "      <td>16741</td>\n",
              "      <td>16742</td>\n",
              "      <td>Sharks of Lost Island</td>\n",
              "      <td>2013</td>\n",
              "      <td>NaN</td>\n",
              "      <td>5.7</td>\n",
              "      <td>NaN</td>\n",
              "      <td>0</td>\n",
              "      <td>0</td>\n",
              "      <td>0</td>\n",
              "      <td>1</td>\n",
              "      <td>0</td>\n",
              "      <td>Neil Gelinas</td>\n",
              "      <td>Documentary</td>\n",
              "      <td>United States</td>\n",
              "      <td>English</td>\n",
              "      <td>NaN</td>\n",
              "    </tr>\n",
              "    <tr>\n",
              "      <th>16742</th>\n",
              "      <td>16742</td>\n",
              "      <td>16743</td>\n",
              "      <td>Man Among Cheetahs</td>\n",
              "      <td>2017</td>\n",
              "      <td>NaN</td>\n",
              "      <td>6.6</td>\n",
              "      <td>NaN</td>\n",
              "      <td>0</td>\n",
              "      <td>0</td>\n",
              "      <td>0</td>\n",
              "      <td>1</td>\n",
              "      <td>0</td>\n",
              "      <td>Richard Slater-Jones</td>\n",
              "      <td>Documentary</td>\n",
              "      <td>United States</td>\n",
              "      <td>English</td>\n",
              "      <td>NaN</td>\n",
              "    </tr>\n",
              "    <tr>\n",
              "      <th>16743</th>\n",
              "      <td>16743</td>\n",
              "      <td>16744</td>\n",
              "      <td>In Beaver Valley</td>\n",
              "      <td>1950</td>\n",
              "      <td>NaN</td>\n",
              "      <td>NaN</td>\n",
              "      <td>NaN</td>\n",
              "      <td>0</td>\n",
              "      <td>0</td>\n",
              "      <td>0</td>\n",
              "      <td>1</td>\n",
              "      <td>0</td>\n",
              "      <td>James Algar</td>\n",
              "      <td>Documentary,Short,Family</td>\n",
              "      <td>United States</td>\n",
              "      <td>English</td>\n",
              "      <td>32.0</td>\n",
              "    </tr>\n",
              "  </tbody>\n",
              "</table>\n",
              "<p>16744 rows × 17 columns</p>\n",
              "</div>"
            ],
            "text/plain": [
              "       Unnamed: 0     ID  ...                 Language  Runtime\n",
              "0               0      1  ...  English,Japanese,French    148.0\n",
              "1               1      2  ...                  English    136.0\n",
              "2               2      3  ...                  English    149.0\n",
              "3               3      4  ...                  English    116.0\n",
              "4               4      5  ...                  Italian    161.0\n",
              "...           ...    ...  ...                      ...      ...\n",
              "16739       16739  16740  ...                  English    120.0\n",
              "16740       16740  16741  ...                  English     90.0\n",
              "16741       16741  16742  ...                  English      NaN\n",
              "16742       16742  16743  ...                  English      NaN\n",
              "16743       16743  16744  ...                  English     32.0\n",
              "\n",
              "[16744 rows x 17 columns]"
            ]
          },
          "metadata": {
            "tags": []
          },
          "execution_count": 6
        }
      ]
    },
    {
      "cell_type": "markdown",
      "metadata": {
        "id": "VBrmcjCQkSoL"
      },
      "source": [
        "The datasheet contains 16743 rows. means the data we have is of 16744 sample size. And 17 columns. Columns contain these data."
      ]
    },
    {
      "cell_type": "code",
      "metadata": {
        "id": "_l7uo6tYcLN4",
        "outputId": "cf793843-090f-4b29-cf50-efe6a11569f5",
        "colab": {
          "base_uri": "https://localhost:8080/",
          "height": 85
        }
      },
      "source": [
        "movies_df.columns"
      ],
      "execution_count": null,
      "outputs": [
        {
          "output_type": "execute_result",
          "data": {
            "text/plain": [
              "Index(['Unnamed: 0', 'ID', 'Title', 'Year', 'Age', 'IMDb', 'Rotten Tomatoes',\n",
              "       'Netflix', 'Hulu', 'Prime Video', 'Disney+', 'Type', 'Directors',\n",
              "       'Genres', 'Country', 'Language', 'Runtime'],\n",
              "      dtype='object')"
            ]
          },
          "metadata": {
            "tags": []
          },
          "execution_count": 7
        }
      ]
    },
    {
      "cell_type": "code",
      "metadata": {
        "id": "KMCJjM13UK5A",
        "outputId": "f0ac43e6-216b-4756-b9d3-d632006ee0e7",
        "colab": {
          "base_uri": "https://localhost:8080/",
          "height": 425
        }
      },
      "source": [
        "movies_df.info()"
      ],
      "execution_count": null,
      "outputs": [
        {
          "output_type": "stream",
          "text": [
            "<class 'pandas.core.frame.DataFrame'>\n",
            "RangeIndex: 16744 entries, 0 to 16743\n",
            "Data columns (total 17 columns):\n",
            " #   Column           Non-Null Count  Dtype  \n",
            "---  ------           --------------  -----  \n",
            " 0   Unnamed: 0       16744 non-null  int64  \n",
            " 1   ID               16744 non-null  int64  \n",
            " 2   Title            16744 non-null  object \n",
            " 3   Year             16744 non-null  int64  \n",
            " 4   Age              7354 non-null   object \n",
            " 5   IMDb             16173 non-null  float64\n",
            " 6   Rotten Tomatoes  5158 non-null   object \n",
            " 7   Netflix          16744 non-null  int64  \n",
            " 8   Hulu             16744 non-null  int64  \n",
            " 9   Prime Video      16744 non-null  int64  \n",
            " 10  Disney+          16744 non-null  int64  \n",
            " 11  Type             16744 non-null  int64  \n",
            " 12  Directors        16018 non-null  object \n",
            " 13  Genres           16469 non-null  object \n",
            " 14  Country          16309 non-null  object \n",
            " 15  Language         16145 non-null  object \n",
            " 16  Runtime          16152 non-null  float64\n",
            "dtypes: float64(2), int64(8), object(7)\n",
            "memory usage: 2.2+ MB\n"
          ],
          "name": "stdout"
        }
      ]
    },
    {
      "cell_type": "code",
      "metadata": {
        "id": "mz-qVNRLUc_l",
        "outputId": "3fb6044f-cbee-495c-dd3a-53e2c38c3833",
        "colab": {
          "base_uri": "https://localhost:8080/",
          "height": 297
        }
      },
      "source": [
        "movies_df.describe()"
      ],
      "execution_count": null,
      "outputs": [
        {
          "output_type": "execute_result",
          "data": {
            "text/html": [
              "<div>\n",
              "<style scoped>\n",
              "    .dataframe tbody tr th:only-of-type {\n",
              "        vertical-align: middle;\n",
              "    }\n",
              "\n",
              "    .dataframe tbody tr th {\n",
              "        vertical-align: top;\n",
              "    }\n",
              "\n",
              "    .dataframe thead th {\n",
              "        text-align: right;\n",
              "    }\n",
              "</style>\n",
              "<table border=\"1\" class=\"dataframe\">\n",
              "  <thead>\n",
              "    <tr style=\"text-align: right;\">\n",
              "      <th></th>\n",
              "      <th>Unnamed: 0</th>\n",
              "      <th>ID</th>\n",
              "      <th>Year</th>\n",
              "      <th>IMDb</th>\n",
              "      <th>Netflix</th>\n",
              "      <th>Hulu</th>\n",
              "      <th>Prime Video</th>\n",
              "      <th>Disney+</th>\n",
              "      <th>Type</th>\n",
              "      <th>Runtime</th>\n",
              "    </tr>\n",
              "  </thead>\n",
              "  <tbody>\n",
              "    <tr>\n",
              "      <th>count</th>\n",
              "      <td>16744.000000</td>\n",
              "      <td>16744.000000</td>\n",
              "      <td>16744.000000</td>\n",
              "      <td>16173.000000</td>\n",
              "      <td>16744.000000</td>\n",
              "      <td>16744.000000</td>\n",
              "      <td>16744.000000</td>\n",
              "      <td>16744.000000</td>\n",
              "      <td>16744.0</td>\n",
              "      <td>16152.000000</td>\n",
              "    </tr>\n",
              "    <tr>\n",
              "      <th>mean</th>\n",
              "      <td>8371.500000</td>\n",
              "      <td>8372.500000</td>\n",
              "      <td>2003.014035</td>\n",
              "      <td>5.902751</td>\n",
              "      <td>0.212613</td>\n",
              "      <td>0.053930</td>\n",
              "      <td>0.737817</td>\n",
              "      <td>0.033684</td>\n",
              "      <td>0.0</td>\n",
              "      <td>93.413447</td>\n",
              "    </tr>\n",
              "    <tr>\n",
              "      <th>std</th>\n",
              "      <td>4833.720789</td>\n",
              "      <td>4833.720789</td>\n",
              "      <td>20.674321</td>\n",
              "      <td>1.347867</td>\n",
              "      <td>0.409169</td>\n",
              "      <td>0.225886</td>\n",
              "      <td>0.439835</td>\n",
              "      <td>0.180419</td>\n",
              "      <td>0.0</td>\n",
              "      <td>28.219222</td>\n",
              "    </tr>\n",
              "    <tr>\n",
              "      <th>min</th>\n",
              "      <td>0.000000</td>\n",
              "      <td>1.000000</td>\n",
              "      <td>1902.000000</td>\n",
              "      <td>0.000000</td>\n",
              "      <td>0.000000</td>\n",
              "      <td>0.000000</td>\n",
              "      <td>0.000000</td>\n",
              "      <td>0.000000</td>\n",
              "      <td>0.0</td>\n",
              "      <td>1.000000</td>\n",
              "    </tr>\n",
              "    <tr>\n",
              "      <th>25%</th>\n",
              "      <td>4185.750000</td>\n",
              "      <td>4186.750000</td>\n",
              "      <td>2000.000000</td>\n",
              "      <td>5.100000</td>\n",
              "      <td>0.000000</td>\n",
              "      <td>0.000000</td>\n",
              "      <td>0.000000</td>\n",
              "      <td>0.000000</td>\n",
              "      <td>0.0</td>\n",
              "      <td>82.000000</td>\n",
              "    </tr>\n",
              "    <tr>\n",
              "      <th>50%</th>\n",
              "      <td>8371.500000</td>\n",
              "      <td>8372.500000</td>\n",
              "      <td>2012.000000</td>\n",
              "      <td>6.100000</td>\n",
              "      <td>0.000000</td>\n",
              "      <td>0.000000</td>\n",
              "      <td>1.000000</td>\n",
              "      <td>0.000000</td>\n",
              "      <td>0.0</td>\n",
              "      <td>92.000000</td>\n",
              "    </tr>\n",
              "    <tr>\n",
              "      <th>75%</th>\n",
              "      <td>12557.250000</td>\n",
              "      <td>12558.250000</td>\n",
              "      <td>2016.000000</td>\n",
              "      <td>6.900000</td>\n",
              "      <td>0.000000</td>\n",
              "      <td>0.000000</td>\n",
              "      <td>1.000000</td>\n",
              "      <td>0.000000</td>\n",
              "      <td>0.0</td>\n",
              "      <td>104.000000</td>\n",
              "    </tr>\n",
              "    <tr>\n",
              "      <th>max</th>\n",
              "      <td>16743.000000</td>\n",
              "      <td>16744.000000</td>\n",
              "      <td>2020.000000</td>\n",
              "      <td>9.300000</td>\n",
              "      <td>1.000000</td>\n",
              "      <td>1.000000</td>\n",
              "      <td>1.000000</td>\n",
              "      <td>1.000000</td>\n",
              "      <td>0.0</td>\n",
              "      <td>1256.000000</td>\n",
              "    </tr>\n",
              "  </tbody>\n",
              "</table>\n",
              "</div>"
            ],
            "text/plain": [
              "         Unnamed: 0            ID  ...     Type       Runtime\n",
              "count  16744.000000  16744.000000  ...  16744.0  16152.000000\n",
              "mean    8371.500000   8372.500000  ...      0.0     93.413447\n",
              "std     4833.720789   4833.720789  ...      0.0     28.219222\n",
              "min        0.000000      1.000000  ...      0.0      1.000000\n",
              "25%     4185.750000   4186.750000  ...      0.0     82.000000\n",
              "50%     8371.500000   8372.500000  ...      0.0     92.000000\n",
              "75%    12557.250000  12558.250000  ...      0.0    104.000000\n",
              "max    16743.000000  16744.000000  ...      0.0   1256.000000\n",
              "\n",
              "[8 rows x 10 columns]"
            ]
          },
          "metadata": {
            "tags": []
          },
          "execution_count": 9
        }
      ]
    },
    {
      "cell_type": "code",
      "metadata": {
        "id": "pvcwqXd4ie5P"
      },
      "source": [
        "movies_df['Age'] = movies_df['Age'].fillna(0)"
      ],
      "execution_count": null,
      "outputs": []
    },
    {
      "cell_type": "markdown",
      "metadata": {
        "id": "4tGdlM6xijvG"
      },
      "source": [
        "Here we converting Age column Dtype From object to float64 for better visualization\n",
        "\n"
      ]
    },
    {
      "cell_type": "code",
      "metadata": {
        "id": "IftHtDWqrp-h"
      },
      "source": [
        "movies_df['Age'] = movies_df['Age'].str.replace(r'\\D', '')"
      ],
      "execution_count": null,
      "outputs": []
    },
    {
      "cell_type": "code",
      "metadata": {
        "id": "jCakbvqhuuNg",
        "outputId": "1a8e895c-0421-48f1-9c9d-e7f9ebd89770",
        "colab": {
          "base_uri": "https://localhost:8080/",
          "height": 796
        }
      },
      "source": [
        "movies_df"
      ],
      "execution_count": null,
      "outputs": [
        {
          "output_type": "execute_result",
          "data": {
            "text/html": [
              "<div>\n",
              "<style scoped>\n",
              "    .dataframe tbody tr th:only-of-type {\n",
              "        vertical-align: middle;\n",
              "    }\n",
              "\n",
              "    .dataframe tbody tr th {\n",
              "        vertical-align: top;\n",
              "    }\n",
              "\n",
              "    .dataframe thead th {\n",
              "        text-align: right;\n",
              "    }\n",
              "</style>\n",
              "<table border=\"1\" class=\"dataframe\">\n",
              "  <thead>\n",
              "    <tr style=\"text-align: right;\">\n",
              "      <th></th>\n",
              "      <th>Unnamed: 0</th>\n",
              "      <th>ID</th>\n",
              "      <th>Title</th>\n",
              "      <th>Year</th>\n",
              "      <th>Age</th>\n",
              "      <th>IMDb</th>\n",
              "      <th>Rotten Tomatoes</th>\n",
              "      <th>Netflix</th>\n",
              "      <th>Hulu</th>\n",
              "      <th>Prime Video</th>\n",
              "      <th>Disney+</th>\n",
              "      <th>Type</th>\n",
              "      <th>Directors</th>\n",
              "      <th>Genres</th>\n",
              "      <th>Country</th>\n",
              "      <th>Language</th>\n",
              "      <th>Runtime</th>\n",
              "    </tr>\n",
              "  </thead>\n",
              "  <tbody>\n",
              "    <tr>\n",
              "      <th>0</th>\n",
              "      <td>0</td>\n",
              "      <td>1</td>\n",
              "      <td>Inception</td>\n",
              "      <td>2010</td>\n",
              "      <td>13</td>\n",
              "      <td>8.8</td>\n",
              "      <td>87%</td>\n",
              "      <td>1</td>\n",
              "      <td>0</td>\n",
              "      <td>0</td>\n",
              "      <td>0</td>\n",
              "      <td>0</td>\n",
              "      <td>Christopher Nolan</td>\n",
              "      <td>Action,Adventure,Sci-Fi,Thriller</td>\n",
              "      <td>United States,United Kingdom</td>\n",
              "      <td>English,Japanese,French</td>\n",
              "      <td>148.0</td>\n",
              "    </tr>\n",
              "    <tr>\n",
              "      <th>1</th>\n",
              "      <td>1</td>\n",
              "      <td>2</td>\n",
              "      <td>The Matrix</td>\n",
              "      <td>1999</td>\n",
              "      <td>18</td>\n",
              "      <td>8.7</td>\n",
              "      <td>87%</td>\n",
              "      <td>1</td>\n",
              "      <td>0</td>\n",
              "      <td>0</td>\n",
              "      <td>0</td>\n",
              "      <td>0</td>\n",
              "      <td>Lana Wachowski,Lilly Wachowski</td>\n",
              "      <td>Action,Sci-Fi</td>\n",
              "      <td>United States</td>\n",
              "      <td>English</td>\n",
              "      <td>136.0</td>\n",
              "    </tr>\n",
              "    <tr>\n",
              "      <th>2</th>\n",
              "      <td>2</td>\n",
              "      <td>3</td>\n",
              "      <td>Avengers: Infinity War</td>\n",
              "      <td>2018</td>\n",
              "      <td>13</td>\n",
              "      <td>8.5</td>\n",
              "      <td>84%</td>\n",
              "      <td>1</td>\n",
              "      <td>0</td>\n",
              "      <td>0</td>\n",
              "      <td>0</td>\n",
              "      <td>0</td>\n",
              "      <td>Anthony Russo,Joe Russo</td>\n",
              "      <td>Action,Adventure,Sci-Fi</td>\n",
              "      <td>United States</td>\n",
              "      <td>English</td>\n",
              "      <td>149.0</td>\n",
              "    </tr>\n",
              "    <tr>\n",
              "      <th>3</th>\n",
              "      <td>3</td>\n",
              "      <td>4</td>\n",
              "      <td>Back to the Future</td>\n",
              "      <td>1985</td>\n",
              "      <td>7</td>\n",
              "      <td>8.5</td>\n",
              "      <td>96%</td>\n",
              "      <td>1</td>\n",
              "      <td>0</td>\n",
              "      <td>0</td>\n",
              "      <td>0</td>\n",
              "      <td>0</td>\n",
              "      <td>Robert Zemeckis</td>\n",
              "      <td>Adventure,Comedy,Sci-Fi</td>\n",
              "      <td>United States</td>\n",
              "      <td>English</td>\n",
              "      <td>116.0</td>\n",
              "    </tr>\n",
              "    <tr>\n",
              "      <th>4</th>\n",
              "      <td>4</td>\n",
              "      <td>5</td>\n",
              "      <td>The Good, the Bad and the Ugly</td>\n",
              "      <td>1966</td>\n",
              "      <td>18</td>\n",
              "      <td>8.8</td>\n",
              "      <td>97%</td>\n",
              "      <td>1</td>\n",
              "      <td>0</td>\n",
              "      <td>1</td>\n",
              "      <td>0</td>\n",
              "      <td>0</td>\n",
              "      <td>Sergio Leone</td>\n",
              "      <td>Western</td>\n",
              "      <td>Italy,Spain,West Germany</td>\n",
              "      <td>Italian</td>\n",
              "      <td>161.0</td>\n",
              "    </tr>\n",
              "    <tr>\n",
              "      <th>...</th>\n",
              "      <td>...</td>\n",
              "      <td>...</td>\n",
              "      <td>...</td>\n",
              "      <td>...</td>\n",
              "      <td>...</td>\n",
              "      <td>...</td>\n",
              "      <td>...</td>\n",
              "      <td>...</td>\n",
              "      <td>...</td>\n",
              "      <td>...</td>\n",
              "      <td>...</td>\n",
              "      <td>...</td>\n",
              "      <td>...</td>\n",
              "      <td>...</td>\n",
              "      <td>...</td>\n",
              "      <td>...</td>\n",
              "      <td>...</td>\n",
              "    </tr>\n",
              "    <tr>\n",
              "      <th>16739</th>\n",
              "      <td>16739</td>\n",
              "      <td>16740</td>\n",
              "      <td>The Ghosts of Buxley Hall</td>\n",
              "      <td>1980</td>\n",
              "      <td>NaN</td>\n",
              "      <td>6.2</td>\n",
              "      <td>NaN</td>\n",
              "      <td>0</td>\n",
              "      <td>0</td>\n",
              "      <td>0</td>\n",
              "      <td>1</td>\n",
              "      <td>0</td>\n",
              "      <td>Bruce Bilson</td>\n",
              "      <td>Comedy,Family,Fantasy,Horror</td>\n",
              "      <td>United States</td>\n",
              "      <td>English</td>\n",
              "      <td>120.0</td>\n",
              "    </tr>\n",
              "    <tr>\n",
              "      <th>16740</th>\n",
              "      <td>16740</td>\n",
              "      <td>16741</td>\n",
              "      <td>The Poof Point</td>\n",
              "      <td>2001</td>\n",
              "      <td>7</td>\n",
              "      <td>4.7</td>\n",
              "      <td>NaN</td>\n",
              "      <td>0</td>\n",
              "      <td>0</td>\n",
              "      <td>0</td>\n",
              "      <td>1</td>\n",
              "      <td>0</td>\n",
              "      <td>Neal Israel</td>\n",
              "      <td>Comedy,Family,Sci-Fi</td>\n",
              "      <td>United States</td>\n",
              "      <td>English</td>\n",
              "      <td>90.0</td>\n",
              "    </tr>\n",
              "    <tr>\n",
              "      <th>16741</th>\n",
              "      <td>16741</td>\n",
              "      <td>16742</td>\n",
              "      <td>Sharks of Lost Island</td>\n",
              "      <td>2013</td>\n",
              "      <td>NaN</td>\n",
              "      <td>5.7</td>\n",
              "      <td>NaN</td>\n",
              "      <td>0</td>\n",
              "      <td>0</td>\n",
              "      <td>0</td>\n",
              "      <td>1</td>\n",
              "      <td>0</td>\n",
              "      <td>Neil Gelinas</td>\n",
              "      <td>Documentary</td>\n",
              "      <td>United States</td>\n",
              "      <td>English</td>\n",
              "      <td>NaN</td>\n",
              "    </tr>\n",
              "    <tr>\n",
              "      <th>16742</th>\n",
              "      <td>16742</td>\n",
              "      <td>16743</td>\n",
              "      <td>Man Among Cheetahs</td>\n",
              "      <td>2017</td>\n",
              "      <td>NaN</td>\n",
              "      <td>6.6</td>\n",
              "      <td>NaN</td>\n",
              "      <td>0</td>\n",
              "      <td>0</td>\n",
              "      <td>0</td>\n",
              "      <td>1</td>\n",
              "      <td>0</td>\n",
              "      <td>Richard Slater-Jones</td>\n",
              "      <td>Documentary</td>\n",
              "      <td>United States</td>\n",
              "      <td>English</td>\n",
              "      <td>NaN</td>\n",
              "    </tr>\n",
              "    <tr>\n",
              "      <th>16743</th>\n",
              "      <td>16743</td>\n",
              "      <td>16744</td>\n",
              "      <td>In Beaver Valley</td>\n",
              "      <td>1950</td>\n",
              "      <td>NaN</td>\n",
              "      <td>NaN</td>\n",
              "      <td>NaN</td>\n",
              "      <td>0</td>\n",
              "      <td>0</td>\n",
              "      <td>0</td>\n",
              "      <td>1</td>\n",
              "      <td>0</td>\n",
              "      <td>James Algar</td>\n",
              "      <td>Documentary,Short,Family</td>\n",
              "      <td>United States</td>\n",
              "      <td>English</td>\n",
              "      <td>32.0</td>\n",
              "    </tr>\n",
              "  </tbody>\n",
              "</table>\n",
              "<p>16744 rows × 17 columns</p>\n",
              "</div>"
            ],
            "text/plain": [
              "       Unnamed: 0     ID  ...                 Language  Runtime\n",
              "0               0      1  ...  English,Japanese,French    148.0\n",
              "1               1      2  ...                  English    136.0\n",
              "2               2      3  ...                  English    149.0\n",
              "3               3      4  ...                  English    116.0\n",
              "4               4      5  ...                  Italian    161.0\n",
              "...           ...    ...  ...                      ...      ...\n",
              "16739       16739  16740  ...                  English    120.0\n",
              "16740       16740  16741  ...                  English     90.0\n",
              "16741       16741  16742  ...                  English      NaN\n",
              "16742       16742  16743  ...                  English      NaN\n",
              "16743       16743  16744  ...                  English     32.0\n",
              "\n",
              "[16744 rows x 17 columns]"
            ]
          },
          "metadata": {
            "tags": []
          },
          "execution_count": 12
        }
      ]
    },
    {
      "cell_type": "code",
      "metadata": {
        "id": "eWddwqkmu8CF"
      },
      "source": [
        "movies_df['Age'] = movies_df['Age'].fillna(0)"
      ],
      "execution_count": null,
      "outputs": []
    },
    {
      "cell_type": "code",
      "metadata": {
        "id": "nzWM2uv9u9rN",
        "outputId": "79ee5a48-46a3-4b7b-fd94-014b51572672",
        "colab": {
          "base_uri": "https://localhost:8080/",
          "height": 796
        }
      },
      "source": [
        "movies_df"
      ],
      "execution_count": null,
      "outputs": [
        {
          "output_type": "execute_result",
          "data": {
            "text/html": [
              "<div>\n",
              "<style scoped>\n",
              "    .dataframe tbody tr th:only-of-type {\n",
              "        vertical-align: middle;\n",
              "    }\n",
              "\n",
              "    .dataframe tbody tr th {\n",
              "        vertical-align: top;\n",
              "    }\n",
              "\n",
              "    .dataframe thead th {\n",
              "        text-align: right;\n",
              "    }\n",
              "</style>\n",
              "<table border=\"1\" class=\"dataframe\">\n",
              "  <thead>\n",
              "    <tr style=\"text-align: right;\">\n",
              "      <th></th>\n",
              "      <th>Unnamed: 0</th>\n",
              "      <th>ID</th>\n",
              "      <th>Title</th>\n",
              "      <th>Year</th>\n",
              "      <th>Age</th>\n",
              "      <th>IMDb</th>\n",
              "      <th>Rotten Tomatoes</th>\n",
              "      <th>Netflix</th>\n",
              "      <th>Hulu</th>\n",
              "      <th>Prime Video</th>\n",
              "      <th>Disney+</th>\n",
              "      <th>Type</th>\n",
              "      <th>Directors</th>\n",
              "      <th>Genres</th>\n",
              "      <th>Country</th>\n",
              "      <th>Language</th>\n",
              "      <th>Runtime</th>\n",
              "    </tr>\n",
              "  </thead>\n",
              "  <tbody>\n",
              "    <tr>\n",
              "      <th>0</th>\n",
              "      <td>0</td>\n",
              "      <td>1</td>\n",
              "      <td>Inception</td>\n",
              "      <td>2010</td>\n",
              "      <td>13</td>\n",
              "      <td>8.8</td>\n",
              "      <td>87%</td>\n",
              "      <td>1</td>\n",
              "      <td>0</td>\n",
              "      <td>0</td>\n",
              "      <td>0</td>\n",
              "      <td>0</td>\n",
              "      <td>Christopher Nolan</td>\n",
              "      <td>Action,Adventure,Sci-Fi,Thriller</td>\n",
              "      <td>United States,United Kingdom</td>\n",
              "      <td>English,Japanese,French</td>\n",
              "      <td>148.0</td>\n",
              "    </tr>\n",
              "    <tr>\n",
              "      <th>1</th>\n",
              "      <td>1</td>\n",
              "      <td>2</td>\n",
              "      <td>The Matrix</td>\n",
              "      <td>1999</td>\n",
              "      <td>18</td>\n",
              "      <td>8.7</td>\n",
              "      <td>87%</td>\n",
              "      <td>1</td>\n",
              "      <td>0</td>\n",
              "      <td>0</td>\n",
              "      <td>0</td>\n",
              "      <td>0</td>\n",
              "      <td>Lana Wachowski,Lilly Wachowski</td>\n",
              "      <td>Action,Sci-Fi</td>\n",
              "      <td>United States</td>\n",
              "      <td>English</td>\n",
              "      <td>136.0</td>\n",
              "    </tr>\n",
              "    <tr>\n",
              "      <th>2</th>\n",
              "      <td>2</td>\n",
              "      <td>3</td>\n",
              "      <td>Avengers: Infinity War</td>\n",
              "      <td>2018</td>\n",
              "      <td>13</td>\n",
              "      <td>8.5</td>\n",
              "      <td>84%</td>\n",
              "      <td>1</td>\n",
              "      <td>0</td>\n",
              "      <td>0</td>\n",
              "      <td>0</td>\n",
              "      <td>0</td>\n",
              "      <td>Anthony Russo,Joe Russo</td>\n",
              "      <td>Action,Adventure,Sci-Fi</td>\n",
              "      <td>United States</td>\n",
              "      <td>English</td>\n",
              "      <td>149.0</td>\n",
              "    </tr>\n",
              "    <tr>\n",
              "      <th>3</th>\n",
              "      <td>3</td>\n",
              "      <td>4</td>\n",
              "      <td>Back to the Future</td>\n",
              "      <td>1985</td>\n",
              "      <td>7</td>\n",
              "      <td>8.5</td>\n",
              "      <td>96%</td>\n",
              "      <td>1</td>\n",
              "      <td>0</td>\n",
              "      <td>0</td>\n",
              "      <td>0</td>\n",
              "      <td>0</td>\n",
              "      <td>Robert Zemeckis</td>\n",
              "      <td>Adventure,Comedy,Sci-Fi</td>\n",
              "      <td>United States</td>\n",
              "      <td>English</td>\n",
              "      <td>116.0</td>\n",
              "    </tr>\n",
              "    <tr>\n",
              "      <th>4</th>\n",
              "      <td>4</td>\n",
              "      <td>5</td>\n",
              "      <td>The Good, the Bad and the Ugly</td>\n",
              "      <td>1966</td>\n",
              "      <td>18</td>\n",
              "      <td>8.8</td>\n",
              "      <td>97%</td>\n",
              "      <td>1</td>\n",
              "      <td>0</td>\n",
              "      <td>1</td>\n",
              "      <td>0</td>\n",
              "      <td>0</td>\n",
              "      <td>Sergio Leone</td>\n",
              "      <td>Western</td>\n",
              "      <td>Italy,Spain,West Germany</td>\n",
              "      <td>Italian</td>\n",
              "      <td>161.0</td>\n",
              "    </tr>\n",
              "    <tr>\n",
              "      <th>...</th>\n",
              "      <td>...</td>\n",
              "      <td>...</td>\n",
              "      <td>...</td>\n",
              "      <td>...</td>\n",
              "      <td>...</td>\n",
              "      <td>...</td>\n",
              "      <td>...</td>\n",
              "      <td>...</td>\n",
              "      <td>...</td>\n",
              "      <td>...</td>\n",
              "      <td>...</td>\n",
              "      <td>...</td>\n",
              "      <td>...</td>\n",
              "      <td>...</td>\n",
              "      <td>...</td>\n",
              "      <td>...</td>\n",
              "      <td>...</td>\n",
              "    </tr>\n",
              "    <tr>\n",
              "      <th>16739</th>\n",
              "      <td>16739</td>\n",
              "      <td>16740</td>\n",
              "      <td>The Ghosts of Buxley Hall</td>\n",
              "      <td>1980</td>\n",
              "      <td>0</td>\n",
              "      <td>6.2</td>\n",
              "      <td>NaN</td>\n",
              "      <td>0</td>\n",
              "      <td>0</td>\n",
              "      <td>0</td>\n",
              "      <td>1</td>\n",
              "      <td>0</td>\n",
              "      <td>Bruce Bilson</td>\n",
              "      <td>Comedy,Family,Fantasy,Horror</td>\n",
              "      <td>United States</td>\n",
              "      <td>English</td>\n",
              "      <td>120.0</td>\n",
              "    </tr>\n",
              "    <tr>\n",
              "      <th>16740</th>\n",
              "      <td>16740</td>\n",
              "      <td>16741</td>\n",
              "      <td>The Poof Point</td>\n",
              "      <td>2001</td>\n",
              "      <td>7</td>\n",
              "      <td>4.7</td>\n",
              "      <td>NaN</td>\n",
              "      <td>0</td>\n",
              "      <td>0</td>\n",
              "      <td>0</td>\n",
              "      <td>1</td>\n",
              "      <td>0</td>\n",
              "      <td>Neal Israel</td>\n",
              "      <td>Comedy,Family,Sci-Fi</td>\n",
              "      <td>United States</td>\n",
              "      <td>English</td>\n",
              "      <td>90.0</td>\n",
              "    </tr>\n",
              "    <tr>\n",
              "      <th>16741</th>\n",
              "      <td>16741</td>\n",
              "      <td>16742</td>\n",
              "      <td>Sharks of Lost Island</td>\n",
              "      <td>2013</td>\n",
              "      <td>0</td>\n",
              "      <td>5.7</td>\n",
              "      <td>NaN</td>\n",
              "      <td>0</td>\n",
              "      <td>0</td>\n",
              "      <td>0</td>\n",
              "      <td>1</td>\n",
              "      <td>0</td>\n",
              "      <td>Neil Gelinas</td>\n",
              "      <td>Documentary</td>\n",
              "      <td>United States</td>\n",
              "      <td>English</td>\n",
              "      <td>NaN</td>\n",
              "    </tr>\n",
              "    <tr>\n",
              "      <th>16742</th>\n",
              "      <td>16742</td>\n",
              "      <td>16743</td>\n",
              "      <td>Man Among Cheetahs</td>\n",
              "      <td>2017</td>\n",
              "      <td>0</td>\n",
              "      <td>6.6</td>\n",
              "      <td>NaN</td>\n",
              "      <td>0</td>\n",
              "      <td>0</td>\n",
              "      <td>0</td>\n",
              "      <td>1</td>\n",
              "      <td>0</td>\n",
              "      <td>Richard Slater-Jones</td>\n",
              "      <td>Documentary</td>\n",
              "      <td>United States</td>\n",
              "      <td>English</td>\n",
              "      <td>NaN</td>\n",
              "    </tr>\n",
              "    <tr>\n",
              "      <th>16743</th>\n",
              "      <td>16743</td>\n",
              "      <td>16744</td>\n",
              "      <td>In Beaver Valley</td>\n",
              "      <td>1950</td>\n",
              "      <td>0</td>\n",
              "      <td>NaN</td>\n",
              "      <td>NaN</td>\n",
              "      <td>0</td>\n",
              "      <td>0</td>\n",
              "      <td>0</td>\n",
              "      <td>1</td>\n",
              "      <td>0</td>\n",
              "      <td>James Algar</td>\n",
              "      <td>Documentary,Short,Family</td>\n",
              "      <td>United States</td>\n",
              "      <td>English</td>\n",
              "      <td>32.0</td>\n",
              "    </tr>\n",
              "  </tbody>\n",
              "</table>\n",
              "<p>16744 rows × 17 columns</p>\n",
              "</div>"
            ],
            "text/plain": [
              "       Unnamed: 0     ID  ...                 Language  Runtime\n",
              "0               0      1  ...  English,Japanese,French    148.0\n",
              "1               1      2  ...                  English    136.0\n",
              "2               2      3  ...                  English    149.0\n",
              "3               3      4  ...                  English    116.0\n",
              "4               4      5  ...                  Italian    161.0\n",
              "...           ...    ...  ...                      ...      ...\n",
              "16739       16739  16740  ...                  English    120.0\n",
              "16740       16740  16741  ...                  English     90.0\n",
              "16741       16741  16742  ...                  English      NaN\n",
              "16742       16742  16743  ...                  English      NaN\n",
              "16743       16743  16744  ...                  English     32.0\n",
              "\n",
              "[16744 rows x 17 columns]"
            ]
          },
          "metadata": {
            "tags": []
          },
          "execution_count": 14
        }
      ]
    },
    {
      "cell_type": "code",
      "metadata": {
        "id": "Fofh98xXu_mK",
        "outputId": "ab3f1f4a-cce9-421d-eb79-03585b9f9a85",
        "colab": {
          "base_uri": "https://localhost:8080/",
          "height": 425
        }
      },
      "source": [
        "movies_df.info()"
      ],
      "execution_count": null,
      "outputs": [
        {
          "output_type": "stream",
          "text": [
            "<class 'pandas.core.frame.DataFrame'>\n",
            "RangeIndex: 16744 entries, 0 to 16743\n",
            "Data columns (total 17 columns):\n",
            " #   Column           Non-Null Count  Dtype  \n",
            "---  ------           --------------  -----  \n",
            " 0   Unnamed: 0       16744 non-null  int64  \n",
            " 1   ID               16744 non-null  int64  \n",
            " 2   Title            16744 non-null  object \n",
            " 3   Year             16744 non-null  int64  \n",
            " 4   Age              16744 non-null  object \n",
            " 5   IMDb             16173 non-null  float64\n",
            " 6   Rotten Tomatoes  5158 non-null   object \n",
            " 7   Netflix          16744 non-null  int64  \n",
            " 8   Hulu             16744 non-null  int64  \n",
            " 9   Prime Video      16744 non-null  int64  \n",
            " 10  Disney+          16744 non-null  int64  \n",
            " 11  Type             16744 non-null  int64  \n",
            " 12  Directors        16018 non-null  object \n",
            " 13  Genres           16469 non-null  object \n",
            " 14  Country          16309 non-null  object \n",
            " 15  Language         16145 non-null  object \n",
            " 16  Runtime          16152 non-null  float64\n",
            "dtypes: float64(2), int64(8), object(7)\n",
            "memory usage: 2.2+ MB\n"
          ],
          "name": "stdout"
        }
      ]
    },
    {
      "cell_type": "code",
      "metadata": {
        "id": "thvaAJX5vISv"
      },
      "source": [
        "movies_df[\"Age\"] = pd.to_numeric(movies_df[\"Age\"], errors=\"coerce\")"
      ],
      "execution_count": null,
      "outputs": []
    },
    {
      "cell_type": "code",
      "metadata": {
        "id": "P-T1Ecz7voFy",
        "outputId": "93bba797-7cc6-47d1-ff13-fefc03cd1ecc",
        "colab": {
          "base_uri": "https://localhost:8080/",
          "height": 425
        }
      },
      "source": [
        "movies_df.info()"
      ],
      "execution_count": null,
      "outputs": [
        {
          "output_type": "stream",
          "text": [
            "<class 'pandas.core.frame.DataFrame'>\n",
            "RangeIndex: 16744 entries, 0 to 16743\n",
            "Data columns (total 17 columns):\n",
            " #   Column           Non-Null Count  Dtype  \n",
            "---  ------           --------------  -----  \n",
            " 0   Unnamed: 0       16744 non-null  int64  \n",
            " 1   ID               16744 non-null  int64  \n",
            " 2   Title            16744 non-null  object \n",
            " 3   Year             16744 non-null  int64  \n",
            " 4   Age              15901 non-null  float64\n",
            " 5   IMDb             16173 non-null  float64\n",
            " 6   Rotten Tomatoes  5158 non-null   object \n",
            " 7   Netflix          16744 non-null  int64  \n",
            " 8   Hulu             16744 non-null  int64  \n",
            " 9   Prime Video      16744 non-null  int64  \n",
            " 10  Disney+          16744 non-null  int64  \n",
            " 11  Type             16744 non-null  int64  \n",
            " 12  Directors        16018 non-null  object \n",
            " 13  Genres           16469 non-null  object \n",
            " 14  Country          16309 non-null  object \n",
            " 15  Language         16145 non-null  object \n",
            " 16  Runtime          16152 non-null  float64\n",
            "dtypes: float64(3), int64(8), object(6)\n",
            "memory usage: 2.2+ MB\n"
          ],
          "name": "stdout"
        }
      ]
    },
    {
      "cell_type": "code",
      "metadata": {
        "id": "z6g9cYwuxJGz",
        "outputId": "64c55600-77bf-4ccf-a660-7260801a6b8b",
        "colab": {
          "base_uri": "https://localhost:8080/",
          "height": 796
        }
      },
      "source": [
        "movies_df"
      ],
      "execution_count": null,
      "outputs": [
        {
          "output_type": "execute_result",
          "data": {
            "text/html": [
              "<div>\n",
              "<style scoped>\n",
              "    .dataframe tbody tr th:only-of-type {\n",
              "        vertical-align: middle;\n",
              "    }\n",
              "\n",
              "    .dataframe tbody tr th {\n",
              "        vertical-align: top;\n",
              "    }\n",
              "\n",
              "    .dataframe thead th {\n",
              "        text-align: right;\n",
              "    }\n",
              "</style>\n",
              "<table border=\"1\" class=\"dataframe\">\n",
              "  <thead>\n",
              "    <tr style=\"text-align: right;\">\n",
              "      <th></th>\n",
              "      <th>Unnamed: 0</th>\n",
              "      <th>ID</th>\n",
              "      <th>Title</th>\n",
              "      <th>Year</th>\n",
              "      <th>Age</th>\n",
              "      <th>IMDb</th>\n",
              "      <th>Rotten Tomatoes</th>\n",
              "      <th>Netflix</th>\n",
              "      <th>Hulu</th>\n",
              "      <th>Prime Video</th>\n",
              "      <th>Disney+</th>\n",
              "      <th>Type</th>\n",
              "      <th>Directors</th>\n",
              "      <th>Genres</th>\n",
              "      <th>Country</th>\n",
              "      <th>Language</th>\n",
              "      <th>Runtime</th>\n",
              "    </tr>\n",
              "  </thead>\n",
              "  <tbody>\n",
              "    <tr>\n",
              "      <th>0</th>\n",
              "      <td>0</td>\n",
              "      <td>1</td>\n",
              "      <td>Inception</td>\n",
              "      <td>2010</td>\n",
              "      <td>13.0</td>\n",
              "      <td>8.8</td>\n",
              "      <td>87%</td>\n",
              "      <td>1</td>\n",
              "      <td>0</td>\n",
              "      <td>0</td>\n",
              "      <td>0</td>\n",
              "      <td>0</td>\n",
              "      <td>Christopher Nolan</td>\n",
              "      <td>Action,Adventure,Sci-Fi,Thriller</td>\n",
              "      <td>United States,United Kingdom</td>\n",
              "      <td>English,Japanese,French</td>\n",
              "      <td>148.0</td>\n",
              "    </tr>\n",
              "    <tr>\n",
              "      <th>1</th>\n",
              "      <td>1</td>\n",
              "      <td>2</td>\n",
              "      <td>The Matrix</td>\n",
              "      <td>1999</td>\n",
              "      <td>18.0</td>\n",
              "      <td>8.7</td>\n",
              "      <td>87%</td>\n",
              "      <td>1</td>\n",
              "      <td>0</td>\n",
              "      <td>0</td>\n",
              "      <td>0</td>\n",
              "      <td>0</td>\n",
              "      <td>Lana Wachowski,Lilly Wachowski</td>\n",
              "      <td>Action,Sci-Fi</td>\n",
              "      <td>United States</td>\n",
              "      <td>English</td>\n",
              "      <td>136.0</td>\n",
              "    </tr>\n",
              "    <tr>\n",
              "      <th>2</th>\n",
              "      <td>2</td>\n",
              "      <td>3</td>\n",
              "      <td>Avengers: Infinity War</td>\n",
              "      <td>2018</td>\n",
              "      <td>13.0</td>\n",
              "      <td>8.5</td>\n",
              "      <td>84%</td>\n",
              "      <td>1</td>\n",
              "      <td>0</td>\n",
              "      <td>0</td>\n",
              "      <td>0</td>\n",
              "      <td>0</td>\n",
              "      <td>Anthony Russo,Joe Russo</td>\n",
              "      <td>Action,Adventure,Sci-Fi</td>\n",
              "      <td>United States</td>\n",
              "      <td>English</td>\n",
              "      <td>149.0</td>\n",
              "    </tr>\n",
              "    <tr>\n",
              "      <th>3</th>\n",
              "      <td>3</td>\n",
              "      <td>4</td>\n",
              "      <td>Back to the Future</td>\n",
              "      <td>1985</td>\n",
              "      <td>7.0</td>\n",
              "      <td>8.5</td>\n",
              "      <td>96%</td>\n",
              "      <td>1</td>\n",
              "      <td>0</td>\n",
              "      <td>0</td>\n",
              "      <td>0</td>\n",
              "      <td>0</td>\n",
              "      <td>Robert Zemeckis</td>\n",
              "      <td>Adventure,Comedy,Sci-Fi</td>\n",
              "      <td>United States</td>\n",
              "      <td>English</td>\n",
              "      <td>116.0</td>\n",
              "    </tr>\n",
              "    <tr>\n",
              "      <th>4</th>\n",
              "      <td>4</td>\n",
              "      <td>5</td>\n",
              "      <td>The Good, the Bad and the Ugly</td>\n",
              "      <td>1966</td>\n",
              "      <td>18.0</td>\n",
              "      <td>8.8</td>\n",
              "      <td>97%</td>\n",
              "      <td>1</td>\n",
              "      <td>0</td>\n",
              "      <td>1</td>\n",
              "      <td>0</td>\n",
              "      <td>0</td>\n",
              "      <td>Sergio Leone</td>\n",
              "      <td>Western</td>\n",
              "      <td>Italy,Spain,West Germany</td>\n",
              "      <td>Italian</td>\n",
              "      <td>161.0</td>\n",
              "    </tr>\n",
              "    <tr>\n",
              "      <th>...</th>\n",
              "      <td>...</td>\n",
              "      <td>...</td>\n",
              "      <td>...</td>\n",
              "      <td>...</td>\n",
              "      <td>...</td>\n",
              "      <td>...</td>\n",
              "      <td>...</td>\n",
              "      <td>...</td>\n",
              "      <td>...</td>\n",
              "      <td>...</td>\n",
              "      <td>...</td>\n",
              "      <td>...</td>\n",
              "      <td>...</td>\n",
              "      <td>...</td>\n",
              "      <td>...</td>\n",
              "      <td>...</td>\n",
              "      <td>...</td>\n",
              "    </tr>\n",
              "    <tr>\n",
              "      <th>16739</th>\n",
              "      <td>16739</td>\n",
              "      <td>16740</td>\n",
              "      <td>The Ghosts of Buxley Hall</td>\n",
              "      <td>1980</td>\n",
              "      <td>0.0</td>\n",
              "      <td>6.2</td>\n",
              "      <td>NaN</td>\n",
              "      <td>0</td>\n",
              "      <td>0</td>\n",
              "      <td>0</td>\n",
              "      <td>1</td>\n",
              "      <td>0</td>\n",
              "      <td>Bruce Bilson</td>\n",
              "      <td>Comedy,Family,Fantasy,Horror</td>\n",
              "      <td>United States</td>\n",
              "      <td>English</td>\n",
              "      <td>120.0</td>\n",
              "    </tr>\n",
              "    <tr>\n",
              "      <th>16740</th>\n",
              "      <td>16740</td>\n",
              "      <td>16741</td>\n",
              "      <td>The Poof Point</td>\n",
              "      <td>2001</td>\n",
              "      <td>7.0</td>\n",
              "      <td>4.7</td>\n",
              "      <td>NaN</td>\n",
              "      <td>0</td>\n",
              "      <td>0</td>\n",
              "      <td>0</td>\n",
              "      <td>1</td>\n",
              "      <td>0</td>\n",
              "      <td>Neal Israel</td>\n",
              "      <td>Comedy,Family,Sci-Fi</td>\n",
              "      <td>United States</td>\n",
              "      <td>English</td>\n",
              "      <td>90.0</td>\n",
              "    </tr>\n",
              "    <tr>\n",
              "      <th>16741</th>\n",
              "      <td>16741</td>\n",
              "      <td>16742</td>\n",
              "      <td>Sharks of Lost Island</td>\n",
              "      <td>2013</td>\n",
              "      <td>0.0</td>\n",
              "      <td>5.7</td>\n",
              "      <td>NaN</td>\n",
              "      <td>0</td>\n",
              "      <td>0</td>\n",
              "      <td>0</td>\n",
              "      <td>1</td>\n",
              "      <td>0</td>\n",
              "      <td>Neil Gelinas</td>\n",
              "      <td>Documentary</td>\n",
              "      <td>United States</td>\n",
              "      <td>English</td>\n",
              "      <td>NaN</td>\n",
              "    </tr>\n",
              "    <tr>\n",
              "      <th>16742</th>\n",
              "      <td>16742</td>\n",
              "      <td>16743</td>\n",
              "      <td>Man Among Cheetahs</td>\n",
              "      <td>2017</td>\n",
              "      <td>0.0</td>\n",
              "      <td>6.6</td>\n",
              "      <td>NaN</td>\n",
              "      <td>0</td>\n",
              "      <td>0</td>\n",
              "      <td>0</td>\n",
              "      <td>1</td>\n",
              "      <td>0</td>\n",
              "      <td>Richard Slater-Jones</td>\n",
              "      <td>Documentary</td>\n",
              "      <td>United States</td>\n",
              "      <td>English</td>\n",
              "      <td>NaN</td>\n",
              "    </tr>\n",
              "    <tr>\n",
              "      <th>16743</th>\n",
              "      <td>16743</td>\n",
              "      <td>16744</td>\n",
              "      <td>In Beaver Valley</td>\n",
              "      <td>1950</td>\n",
              "      <td>0.0</td>\n",
              "      <td>NaN</td>\n",
              "      <td>NaN</td>\n",
              "      <td>0</td>\n",
              "      <td>0</td>\n",
              "      <td>0</td>\n",
              "      <td>1</td>\n",
              "      <td>0</td>\n",
              "      <td>James Algar</td>\n",
              "      <td>Documentary,Short,Family</td>\n",
              "      <td>United States</td>\n",
              "      <td>English</td>\n",
              "      <td>32.0</td>\n",
              "    </tr>\n",
              "  </tbody>\n",
              "</table>\n",
              "<p>16744 rows × 17 columns</p>\n",
              "</div>"
            ],
            "text/plain": [
              "       Unnamed: 0     ID  ...                 Language  Runtime\n",
              "0               0      1  ...  English,Japanese,French    148.0\n",
              "1               1      2  ...                  English    136.0\n",
              "2               2      3  ...                  English    149.0\n",
              "3               3      4  ...                  English    116.0\n",
              "4               4      5  ...                  Italian    161.0\n",
              "...           ...    ...  ...                      ...      ...\n",
              "16739       16739  16740  ...                  English    120.0\n",
              "16740       16740  16741  ...                  English     90.0\n",
              "16741       16741  16742  ...                  English      NaN\n",
              "16742       16742  16743  ...                  English      NaN\n",
              "16743       16743  16744  ...                  English     32.0\n",
              "\n",
              "[16744 rows x 17 columns]"
            ]
          },
          "metadata": {
            "tags": []
          },
          "execution_count": 18
        }
      ]
    },
    {
      "cell_type": "code",
      "metadata": {
        "id": "KYqxK27JxoiQ",
        "outputId": "4d5b68b4-bbe2-4092-a683-7beeec15232e",
        "colab": {
          "base_uri": "https://localhost:8080/",
          "height": 34
        }
      },
      "source": [
        "movies_df.Country.nunique()"
      ],
      "execution_count": null,
      "outputs": [
        {
          "output_type": "execute_result",
          "data": {
            "text/plain": [
              "1303"
            ]
          },
          "metadata": {
            "tags": []
          },
          "execution_count": 19
        }
      ]
    },
    {
      "cell_type": "markdown",
      "metadata": {
        "id": "Sr8PuBZRjeIK"
      },
      "source": [
        "# Here we see the topmost country using the OTT platform. and visualize it with the graph "
      ]
    },
    {
      "cell_type": "code",
      "metadata": {
        "id": "RUkF57pVx3NT",
        "outputId": "3797d491-76ae-4834-820f-738fbf881d18",
        "colab": {
          "base_uri": "https://localhost:8080/",
          "height": 289
        }
      },
      "source": [
        "top_countries = movies_df.Country.value_counts().head(15)\n",
        "top_countries"
      ],
      "execution_count": null,
      "outputs": [
        {
          "output_type": "execute_result",
          "data": {
            "text/plain": [
              "United States                   8776\n",
              "India                           1064\n",
              "United Kingdom                   905\n",
              "Canada                           555\n",
              "Australia                        202\n",
              "Japan                            175\n",
              "United Kingdom,United States     172\n",
              "France                           167\n",
              "Hong Kong                        153\n",
              "Canada,United States             150\n",
              "Italy                            142\n",
              "United States,Canada             138\n",
              "South Korea                      122\n",
              "Spain                            115\n",
              "Germany                          103\n",
              "Name: Country, dtype: int64"
            ]
          },
          "metadata": {
            "tags": []
          },
          "execution_count": 20
        }
      ]
    },
    {
      "cell_type": "markdown",
      "metadata": {
        "id": "lnnPC8JJj4Zi"
      },
      "source": [
        "Here the US is on top with 8776 users then followed by India.\n",
        "Now plotting its graph"
      ]
    },
    {
      "cell_type": "code",
      "metadata": {
        "id": "EJjkzF36yFXO",
        "outputId": "6c24eb30-3448-46c9-be48-99ba492d8e42",
        "colab": {
          "base_uri": "https://localhost:8080/",
          "height": 567
        }
      },
      "source": [
        "plt.figure(figsize=(12,6))\n",
        "plt.xticks(rotation=75)\n",
        "seaborn.barplot(top_countries.index, top_countries);"
      ],
      "execution_count": null,
      "outputs": [
        {
          "output_type": "stream",
          "text": [
            "/usr/local/lib/python3.6/dist-packages/seaborn/_decorators.py:43: FutureWarning: Pass the following variables as keyword args: x, y. From version 0.12, the only valid positional argument will be `data`, and passing other arguments without an explicit keyword will result in an error or misinterpretation.\n",
            "  FutureWarning\n"
          ],
          "name": "stderr"
        },
        {
          "output_type": "display_data",
          "data": {
            "image/png": "[encoded data removed]",
            "text/plain": [
              "<Figure size 864x432 with 1 Axes>"
            ]
          },
          "metadata": {
            "tags": [],
            "needs_background": "light"
          }
        }
      ]
    },
    {
      "cell_type": "markdown",
      "metadata": {
        "id": "5Fr24dXHmXQJ"
      },
      "source": [
        "**Now visualizing the age group distribution for watching movies.**\n",
        "\n",
        "In the graph, we see that the zero-age groups have maximum value because many users do not mention their age group and for visualization, we converted those values to zero.\n",
        "After the zero-age group, the 18+ user group are large then followed by 13+ and then 7+ age group users\n"
      ]
    },
    {
      "cell_type": "code",
      "metadata": {
        "id": "epAhmvA0DmNE",
        "outputId": "b6bf41be-d66d-4876-b2ff-5c8456f94dd5",
        "colab": {
          "base_uri": "https://localhost:8080/",
          "height": 456
        }
      },
      "source": [
        "plt.figure(figsize=(12, 6))\n",
        "plt.xlabel('Age')\n",
        "plt.ylabel('number of ID')\n",
        "plt.hist(movies_df.Age)\n",
        "plt.show();"
      ],
      "execution_count": null,
      "outputs": [
        {
          "output_type": "stream",
          "text": [
            "/usr/local/lib/python3.6/dist-packages/numpy/lib/histograms.py:839: RuntimeWarning: invalid value encountered in greater_equal\n",
            "  keep = (tmp_a >= first_edge)\n",
            "/usr/local/lib/python3.6/dist-packages/numpy/lib/histograms.py:840: RuntimeWarning: invalid value encountered in less_equal\n",
            "  keep &= (tmp_a <= last_edge)\n"
          ],
          "name": "stderr"
        },
        {
          "output_type": "display_data",
          "data": {
            "image/png": "[encoded data removed]",
            "text/plain": [
              "<Figure size 864x432 with 1 Axes>"
            ]
          },
          "metadata": {
            "tags": [],
            "needs_background": "light"
          }
        }
      ]
    },
    {
      "cell_type": "markdown",
      "metadata": {
        "id": "wXRswxjHoGjA"
      },
      "source": [
        "**Let's find out which language is widely preferred by users.**\n",
        "\n",
        "As we can see the English language is the most popular and followed by Hindi, it's obvious because we already saw that the US tops the list of OTT and followed by India. The US is an English-speaking country and India is Hindi speaking country."
      ]
    },
    {
      "cell_type": "code",
      "metadata": {
        "id": "cmYFResNEO4x",
        "outputId": "9fafc080-dc85-4ad8-8c47-d54b41f3e75e",
        "colab": {
          "base_uri": "https://localhost:8080/",
          "height": 289
        }
      },
      "source": [
        "top_Language = movies_df.Language.value_counts().head(15)\n",
        "top_Language"
      ],
      "execution_count": null,
      "outputs": [
        {
          "output_type": "execute_result",
          "data": {
            "text/plain": [
              "English            10955\n",
              "Hindi                503\n",
              "English,Spanish      276\n",
              "Spanish              267\n",
              "English,French       174\n",
              "Italian              166\n",
              "French               163\n",
              "Japanese             155\n",
              "Mandarin             151\n",
              "Tamil                 93\n",
              "Korean                90\n",
              "English,German        83\n",
              "German                76\n",
              "Hindi,English         72\n",
              "Telugu                67\n",
              "Name: Language, dtype: int64"
            ]
          },
          "metadata": {
            "tags": []
          },
          "execution_count": 23
        }
      ]
    },
    {
      "cell_type": "code",
      "metadata": {
        "id": "tRgMbOQykZr7",
        "outputId": "18ce8ca3-c5c0-4a6f-fb67-c62cdef2d6a4",
        "colab": {
          "base_uri": "https://localhost:8080/",
          "height": 497
        }
      },
      "source": [
        "plt.figure(figsize=(12,6))\n",
        "plt.xticks(rotation=75)\n",
        "seaborn.barplot(top_Language.index, top_Language);"
      ],
      "execution_count": null,
      "outputs": [
        {
          "output_type": "stream",
          "text": [
            "/usr/local/lib/python3.6/dist-packages/seaborn/_decorators.py:43: FutureWarning: Pass the following variables as keyword args: x, y. From version 0.12, the only valid positional argument will be `data`, and passing other arguments without an explicit keyword will result in an error or misinterpretation.\n",
            "  FutureWarning\n"
          ],
          "name": "stderr"
        },
        {
          "output_type": "display_data",
          "data": {
            "image/png": "[encoded data removed]",
            "text/plain": [
              "<Figure size 864x432 with 1 Axes>"
            ]
          },
          "metadata": {
            "tags": [],
            "needs_background": "light"
          }
        }
      ]
    },
    {
      "cell_type": "markdown",
      "metadata": {
        "id": "6FNLwmVfpi79"
      },
      "source": [
        "**Let's see which genre is famous among the users.**\n",
        "\n",
        "As we can see the Drama genre is top the list then documentary and then comedy. And these 3 have comparable values but when we move to other genres there is a huge drop in watching. We can say that Drama, Documentary, and Comedy is the famous genre among users.\n",
        "\n",
        "And also visualizing it by the graph."
      ]
    },
    {
      "cell_type": "code",
      "metadata": {
        "id": "Hq_pfLFelrut",
        "outputId": "9c180b34-4ac9-4aef-a284-f772b5218637",
        "colab": {
          "base_uri": "https://localhost:8080/",
          "height": 544
        }
      },
      "source": [
        "top_Genres = movies_df.Genres.value_counts().head(30)\n",
        "top_Genres"
      ],
      "execution_count": null,
      "outputs": [
        {
          "output_type": "execute_result",
          "data": {
            "text/plain": [
              "Drama                           1341\n",
              "Documentary                     1229\n",
              "Comedy                          1040\n",
              "Comedy,Drama                     446\n",
              "Horror                           436\n",
              "Drama,Romance                    397\n",
              "Comedy,Drama,Romance             333\n",
              "Horror,Thriller                  297\n",
              "Comedy,Romance                   289\n",
              "Drama,Thriller                   222\n",
              "Thriller                         211\n",
              "Action,Drama                     173\n",
              "Crime,Drama,Thriller             169\n",
              "Crime,Drama                      149\n",
              "Action                           146\n",
              "Documentary,Comedy               142\n",
              "Horror,Mystery,Thriller          140\n",
              "Documentary,Music                140\n",
              "Comedy,Horror                    126\n",
              "Action,Thriller                  119\n",
              "Action,Crime,Drama,Thriller      116\n",
              "Western                          116\n",
              "Family                           104\n",
              "Documentary,Biography            101\n",
              "Horror,Sci-Fi                    101\n",
              "Drama,Mystery,Thriller            99\n",
              "Action,Crime,Thriller             92\n",
              "Crime,Drama,Mystery,Thriller      90\n",
              "Drama,Family                      89\n",
              "Biography,Drama                   87\n",
              "Name: Genres, dtype: int64"
            ]
          },
          "metadata": {
            "tags": []
          },
          "execution_count": 25
        }
      ]
    },
    {
      "cell_type": "code",
      "metadata": {
        "id": "46HNIyeYmS69",
        "outputId": "e0be7238-af71-4b79-8e0e-8e170e929fb4",
        "colab": {
          "base_uri": "https://localhost:8080/",
          "height": 785
        }
      },
      "source": [
        "plt.figure(figsize=(12, 12))\n",
        "seaborn.barplot(top_Genres, top_Genres.index)"
      ],
      "execution_count": null,
      "outputs": [
        {
          "output_type": "stream",
          "text": [
            "/usr/local/lib/python3.6/dist-packages/seaborn/_decorators.py:43: FutureWarning: Pass the following variables as keyword args: x, y. From version 0.12, the only valid positional argument will be `data`, and passing other arguments without an explicit keyword will result in an error or misinterpretation.\n",
            "  FutureWarning\n"
          ],
          "name": "stderr"
        },
        {
          "output_type": "execute_result",
          "data": {
            "text/plain": [
              "<matplotlib.axes._subplots.AxesSubplot at 0x7fcfd76db828>"
            ]
          },
          "metadata": {
            "tags": []
          },
          "execution_count": 26
        },
        {
          "output_type": "display_data",
          "data": {
            "image/png": "[encoded data removed]",
            "text/plain": [
              "<Figure size 864x864 with 1 Axes>"
            ]
          },
          "metadata": {
            "tags": [],
            "needs_background": "light"
          }
        }
      ]
    },
    {
      "cell_type": "markdown",
      "metadata": {
        "id": "OHZaySDXhTq4"
      },
      "source": [
        "**Finding highest rated IMDb movie**\n",
        "\n",
        "The highest-rated IMDb rating is 9.3\n",
        "and is for 'My next guest with David letterman and Shah Rukh Khan' \n",
        "its a Talk-Show and it belong to Netflix"
      ]
    },
    {
      "cell_type": "code",
      "metadata": {
        "id": "n-18yskJAMYi",
        "outputId": "c237f569-e8ba-4acc-98f8-4274516e4c68",
        "colab": {
          "base_uri": "https://localhost:8080/",
          "height": 323
        }
      },
      "source": [
        "movies_df.loc[movies_df['IMDb'].idxmax()]"
      ],
      "execution_count": null,
      "outputs": [
        {
          "output_type": "execute_result",
          "data": {
            "text/plain": [
              "Unnamed: 0                                                      1292\n",
              "ID                                                              1293\n",
              "Title              My Next Guest with David Letterman and Shah Ru...\n",
              "Year                                                            2019\n",
              "Age                                                                0\n",
              "IMDb                                                             9.3\n",
              "Rotten Tomatoes                                                  NaN\n",
              "Netflix                                                            1\n",
              "Hulu                                                               0\n",
              "Prime Video                                                        0\n",
              "Disney+                                                            0\n",
              "Type                                                               0\n",
              "Directors                                                        NaN\n",
              "Genres                                                     Talk-Show\n",
              "Country                                                          NaN\n",
              "Language                                                         NaN\n",
              "Runtime                                                           61\n",
              "Name: 1292, dtype: object"
            ]
          },
          "metadata": {
            "tags": []
          },
          "execution_count": 27
        }
      ]
    },
    {
      "cell_type": "markdown",
      "metadata": {
        "id": "Brbvy2g1iheF"
      },
      "source": [
        "**Now take a look at the OTT platform which have the highest number of movies watched bu users**\n",
        "\n",
        "Netflix = 3560\n",
        "\n",
        "Hulu = 903\n",
        "\n",
        "Prime Video = 4390\n",
        "\n",
        "Disney+ = 564\n",
        "\n",
        "Here we can see the Prime Video tops then followed by Netflix"
      ]
    },
    {
      "cell_type": "code",
      "metadata": {
        "id": "yhVQ72r-_-Vn",
        "outputId": "c6599ab6-f157-4028-d0d5-5bcd0af85d5b",
        "colab": {
          "base_uri": "https://localhost:8080/",
          "height": 68
        }
      },
      "source": [
        "movies_df['Netflix'].value_counts()"
      ],
      "execution_count": null,
      "outputs": [
        {
          "output_type": "execute_result",
          "data": {
            "text/plain": [
              "0    13184\n",
              "1     3560\n",
              "Name: Netflix, dtype: int64"
            ]
          },
          "metadata": {
            "tags": []
          },
          "execution_count": 28
        }
      ]
    },
    {
      "cell_type": "code",
      "metadata": {
        "id": "phK7p2ltBglQ",
        "outputId": "0d30a064-6516-4281-8296-8ade8338b4c1",
        "colab": {
          "base_uri": "https://localhost:8080/",
          "height": 68
        }
      },
      "source": [
        "movies_df['Hulu'].value_counts()"
      ],
      "execution_count": null,
      "outputs": [
        {
          "output_type": "execute_result",
          "data": {
            "text/plain": [
              "0    15841\n",
              "1      903\n",
              "Name: Hulu, dtype: int64"
            ]
          },
          "metadata": {
            "tags": []
          },
          "execution_count": 29
        }
      ]
    },
    {
      "cell_type": "code",
      "metadata": {
        "id": "-8JNcthwBnj9",
        "outputId": "e72ad258-8145-4e3a-d2f5-4c94f1adaacc",
        "colab": {
          "base_uri": "https://localhost:8080/",
          "height": 68
        }
      },
      "source": [
        "movies_df['Prime Video'].value_counts()"
      ],
      "execution_count": null,
      "outputs": [
        {
          "output_type": "execute_result",
          "data": {
            "text/plain": [
              "1    12354\n",
              "0     4390\n",
              "Name: Prime Video, dtype: int64"
            ]
          },
          "metadata": {
            "tags": []
          },
          "execution_count": 30
        }
      ]
    },
    {
      "cell_type": "code",
      "metadata": {
        "id": "ZXqorNxzB0KD",
        "outputId": "e8de72bf-08b8-437e-ec12-4394ac1330d9",
        "colab": {
          "base_uri": "https://localhost:8080/",
          "height": 68
        }
      },
      "source": [
        "movies_df['Disney+'].value_counts()"
      ],
      "execution_count": null,
      "outputs": [
        {
          "output_type": "execute_result",
          "data": {
            "text/plain": [
              "0    16180\n",
              "1      564\n",
              "Name: Disney+, dtype: int64"
            ]
          },
          "metadata": {
            "tags": []
          },
          "execution_count": 31
        }
      ]
    },
    {
      "cell_type": "markdown",
      "metadata": {
        "id": "ap1gNWkLkRS3"
      },
      "source": [
        "**Yearly Movies Release**\n",
        "\n",
        "The number of movies releasing per year also can be visualized\n",
        "from the graph, we can observe that in recent years the number of movies released is increased rapidly\n",
        "As we can see also in counts value that recent years tops the list"
      ]
    },
    {
      "cell_type": "code",
      "metadata": {
        "id": "ERUuKjkQFv8X",
        "outputId": "27ca1dc8-1dfc-4bc6-ab7e-7496b4d3deab",
        "colab": {
          "base_uri": "https://localhost:8080/",
          "height": 221
        }
      },
      "source": [
        "movies_df['Year'].value_counts()"
      ],
      "execution_count": null,
      "outputs": [
        {
          "output_type": "execute_result",
          "data": {
            "text/plain": [
              "2017    1401\n",
              "2018    1285\n",
              "2016    1206\n",
              "2015    1065\n",
              "2014     986\n",
              "        ... \n",
              "1924       1\n",
              "1912       1\n",
              "1916       1\n",
              "1917       1\n",
              "1902       1\n",
              "Name: Year, Length: 109, dtype: int64"
            ]
          },
          "metadata": {
            "tags": []
          },
          "execution_count": 32
        }
      ]
    },
    {
      "cell_type": "code",
      "metadata": {
        "id": "w5elfmIIGTJ4",
        "outputId": "e909ce8a-d33a-4c66-9205-2775d58c468f",
        "colab": {
          "base_uri": "https://localhost:8080/",
          "height": 593
        }
      },
      "source": [
        "x = movies_df['Year']\n",
        "y = movies_df['ID']\n",
        "\n",
        "plt.figure(figsize=(20,10))\n",
        "plt.stem(x, y, use_line_collection=True)\n",
        "plt.show()"
      ],
      "execution_count": null,
      "outputs": [
        {
          "output_type": "display_data",
          "data": {
            "image/png": "[encoded data removed]",
            "text/plain": [
              "<Figure size 1440x720 with 1 Axes>"
            ]
          },
          "metadata": {
            "tags": [],
            "needs_background": "light"
          }
        }
      ]
    }
  ]
}